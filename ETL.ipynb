{
 "cells": [
  {
   "cell_type": "code",
   "execution_count": 1,
   "metadata": {},
   "outputs": [
    {
     "name": "stdout",
     "output_type": "stream",
     "text": [
      "Error connecting to database: 2003 (HY000): Can't connect to MySQL server on '10.18.16.100:3306' (10061)\n"
     ]
    },
    {
     "ename": "",
     "evalue": "",
     "output_type": "error",
     "traceback": [
      "\u001b[1;31mThe Kernel crashed while executing code in the the current cell or a previous cell. Please review the code in the cell(s) to identify a possible cause of the failure. Click <a href='https://aka.ms/vscodeJupyterKernelCrash'>here</a> for more info. View Jupyter <a href='command:jupyter.viewOutput'>log</a> for further details."
     ]
    }
   ],
   "source": [
    "## check connection\n",
    "import mysql.connector\n",
    "\n",
    "# Connect to the database\n",
    "try:\n",
    "    mydb = mysql.connector.connect(\n",
    "        host=\"10.18.16.100\",\n",
    "        user=\"jmc\",\n",
    "        password=\"jmc\",\n",
    "        database=\"NDEX_RealTime_2018\"\n",
    "    )\n",
    "    print(f\"Successfully connected to the database: {mydb.database}\")\n",
    "except mysql.connector.Error as err:\n",
    "    print(f\"Error connecting to database: {err}\")\n",
    "    exit()\n"
   ]
  }
 ],
 "metadata": {
  "kernelspec": {
   "display_name": "Python 3",
   "language": "python",
   "name": "python3"
  },
  "language_info": {
   "codemirror_mode": {
    "name": "ipython",
    "version": 3
   },
   "file_extension": ".py",
   "mimetype": "text/x-python",
   "name": "python",
   "nbconvert_exporter": "python",
   "pygments_lexer": "ipython3",
   "version": "3.11.0"
  }
 },
 "nbformat": 4,
 "nbformat_minor": 2
}
