{
 "cells": [
  {
   "cell_type": "code",
   "execution_count": 3,
   "metadata": {},
   "outputs": [
    {
     "name": "stdout",
     "output_type": "stream",
     "text": [
      "Successfully connected to the database: fast_freeway_sensor_data_xie\n"
     ]
    }
   ],
   "source": [
    "## check connection\n",
    "import mysql.connector\n",
    "try:\n",
    "    mydb = mysql.connector.connect(\n",
    "        host=\"127.0.0.1\",\n",
    "        port=\"3307\",\n",
    "        user=\"root\",\n",
    "        password=\"Zahid_313\",\n",
    "        database=\"fast_freeway_sensor_data_xie\"\n",
    "    )\n",
    "    print(f\"Successfully connected to the database: {mydb.database}\")\n",
    "except mysql.connector.Error as err:\n",
    "    print(f\"Error connecting to database: {err}\")\n",
    "    exit()"
   ]
  },
  {
   "cell_type": "code",
   "execution_count": 10,
   "metadata": {},
   "outputs": [],
   "source": [
    "import csv\n",
    "import os\n",
    "import mysql.connector\n",
    "\n",
    "def connect_to_mysql():\n",
    "    # MySQL connection parameters\n",
    "    config = {\n",
    "        'user': 'root',\n",
    "        'password': 'Zahid_313',\n",
    "        'host': '127.0.0.1',\n",
    "        'port': 3307,\n",
    "        'database': 'fast_freeway_sensor_data_xie'\n",
    "    }\n",
    "\n",
    "    # Establishing MySQL connection\n",
    "    connection = mysql.connector.connect(**config)\n",
    "    return connection\n",
    "\n",
    "def fetch_data_and_create_csv(connection, chunk_size=1000):\n",
    "    cursor = connection.cursor()\n",
    "\n",
    "    # Selecting data from the table\n",
    "    query = \"SELECT * FROM `2019`\"\n",
    "    cursor.execute(query)\n",
    "\n",
    "    while True:\n",
    "        # Fetching rows in chunks\n",
    "        rows = cursor.fetchmany(chunk_size)\n",
    "\n",
    "        if not rows:\n",
    "            break  # No more rows to fetch\n",
    "\n",
    "        # Creating a folder to store CSV files\n",
    "        folder_path = \"D:/xie_sepa/2019\"\n",
    "        os.makedirs(folder_path, exist_ok=True)\n",
    "\n",
    "        # Process data and create CSV files\n",
    "        for row in rows:\n",
    "            detector_id = row[22]  \n",
    "            csv_file_path = os.path.join(folder_path, f\"{detector_id}.csv\")\n",
    "\n",
    "            # Appending data to CSV file\n",
    "            with open(csv_file_path, mode='a', newline='') as csv_file:\n",
    "                csv_writer = csv.writer(csv_file)\n",
    "                csv_writer.writerow(row)\n",
    "\n",
    "    cursor.close()"
   ]
  },
  {
   "cell_type": "code",
   "execution_count": 11,
   "metadata": {},
   "outputs": [],
   "source": [
    "connection = connect_to_mysql()\n",
    "fetch_data_and_create_csv(connection)\n",
    "connection.close()"
   ]
  }
 ],
 "metadata": {
  "kernelspec": {
   "display_name": "Python 3",
   "language": "python",
   "name": "python3"
  },
  "language_info": {
   "codemirror_mode": {
    "name": "ipython",
    "version": 3
   },
   "file_extension": ".py",
   "mimetype": "text/x-python",
   "name": "python",
   "nbconvert_exporter": "python",
   "pygments_lexer": "ipython3",
   "version": "3.11.0"
  }
 },
 "nbformat": 4,
 "nbformat_minor": 2
}
