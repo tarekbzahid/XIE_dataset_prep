{
 "cells": [
  {
   "cell_type": "code",
   "execution_count": 7,
   "metadata": {},
   "outputs": [],
   "source": [
    "import os\n",
    "import pandas as pd\n",
    "import miceforest as mf"
   ]
  },
  {
   "cell_type": "code",
   "execution_count": 15,
   "metadata": {},
   "outputs": [
    {
     "name": "stdout",
     "output_type": "stream",
     "text": [
      "Imputed values saved to 'E:/xie/Sensor Files/4. datasets/full MICE imputated/2018\\2.1.268_impute.csv'.\n"
     ]
    }
   ],
   "source": [
    "import os\n",
    "import pandas as pd\n",
    "import numpy as np\n",
    "import miceforest as mf\n",
    "\n",
    "def impute_missing_values(input_directory, output_directory):\n",
    "    # Get all CSV files in the input directory\n",
    "    file_paths = [os.path.join(input_directory, filename) for filename in os.listdir(input_directory) if filename.endswith('.csv')]\n",
    "    \n",
    "    # Process each CSV file\n",
    "    for file_path in file_paths:\n",
    "        # Read CSV file\n",
    "        df = pd.read_csv(file_path)\n",
    "        \n",
    "        # Drop the 'DateTimeStamp' column and convert to numpy array for imputation\n",
    "        df_features = df.drop(columns=['DateTimeStamp']).to_numpy()\n",
    "        \n",
    "        # Create kernel\n",
    "        kds = mf.ImputationKernel(df_features, save_all_iterations=True, random_state=1991)\n",
    "        \n",
    "        # Run the MICE algorithm for 2 iterations\n",
    "        kds.mice(15)\n",
    "        \n",
    "        # Return the completed dataset\n",
    "        completed_data = kds.complete_data()\n",
    "        \n",
    "        # Insert 'DateTimeStamp' column back into the completed dataset\n",
    "        completed_data = pd.DataFrame(completed_data, columns=df.columns[1:])\n",
    "        completed_data.insert(0, 'DateTimeStamp', df['DateTimeStamp'])\n",
    "        \n",
    "        # Replace '_emptyrows' with '_impute' in the output file name\n",
    "        output_file_name = os.path.basename(file_path).replace('_emptyrows', '_impute')\n",
    "        \n",
    "        # Save the completed dataset to the output directory\n",
    "        output_file_path = os.path.join(output_directory, output_file_name)\n",
    "        completed_data.to_csv(output_file_path, index=False)\n",
    "        print(f\"Imputed values saved to '{output_file_path}'.\")\n",
    "\n",
    "# Input and output directory paths\n",
    "input_directory = 'E:/xie/Sensor Files/3. filled w empty rows - fixed to 35040 rows/2018'\n",
    "output_directory = 'E:/xie/Sensor Files/4. datasets/full MICE imputated/2018'\n",
    "\n",
    "# Call the function\n",
    "impute_missing_values(input_directory, output_directory)\n"
   ]
  },
  {
   "cell_type": "code",
   "execution_count": null,
   "metadata": {},
   "outputs": [],
   "source": [
    "import os\n",
    "import pandas as pd\n",
    "import numpy as np\n",
    "import miceforest as mf\n",
    "\n",
    "def impute_missing_values(input_directory, output_directory):\n",
    "    # Get all CSV files in the input directory\n",
    "    file_paths = [os.path.join(input_directory, filename) for filename in os.listdir(input_directory) if filename.endswith('.csv')]\n",
    "    \n",
    "    # Process each CSV file\n",
    "    for file_path in file_paths:\n",
    "        # Read CSV file\n",
    "        df = pd.read_csv(file_path)\n",
    "        \n",
    "        # Drop the 'DateTimeStamp' column and convert to numpy array for imputation\n",
    "        df_features = df.drop(columns=['DateTimeStamp']).to_numpy()\n",
    "        \n",
    "        # Create kernel\n",
    "        kds = mf.ImputationKernel(df_features, save_all_iterations=True, random_state=1991)\n",
    "        \n",
    "        # Run the MICE algorithm for 2 iterations\n",
    "        kds.mice(15)\n",
    "        \n",
    "        # Return the completed dataset\n",
    "        completed_data = kds.complete_data()\n",
    "        \n",
    "        # Insert 'DateTimeStamp' column back into the completed dataset\n",
    "        completed_data = pd.DataFrame(completed_data, columns=df.columns[1:])\n",
    "        completed_data.insert(0, 'DateTimeStamp', df['DateTimeStamp'])\n",
    "        \n",
    "        # Replace '_emptyrows' with '_impute' in the output file name\n",
    "        output_file_name = os.path.basename(file_path).replace('_emptyrows', '_impute')\n",
    "        \n",
    "        # Save the completed dataset to the output directory\n",
    "        output_file_path = os.path.join(output_directory, output_file_name)\n",
    "        completed_data.to_csv(output_file_path, index=False)\n",
    "        print(f\"Imputed values saved to '{output_file_path}'.\")\n",
    "\n",
    "# Input and output directory paths\n",
    "input_directory = 'E:/xie/Sensor Files/3. filled w empty rows - fixed to 35040 rows/2018'\n",
    "output_directory = 'E:/xie/Sensor Files/4. datasets/full MICE imputated/2018'\n",
    "\n",
    "# Call the function\n",
    "impute_missing_values(input_directory, output_directory)"
   ]
  }
 ],
 "metadata": {
  "kernelspec": {
   "display_name": "Python 3",
   "language": "python",
   "name": "python3"
  },
  "language_info": {
   "codemirror_mode": {
    "name": "ipython",
    "version": 3
   },
   "file_extension": ".py",
   "mimetype": "text/x-python",
   "name": "python",
   "nbconvert_exporter": "python",
   "pygments_lexer": "ipython3",
   "version": "3.11.9"
  }
 },
 "nbformat": 4,
 "nbformat_minor": 2
}
