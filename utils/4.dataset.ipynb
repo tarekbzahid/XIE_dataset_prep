{
 "cells": [
  {
   "cell_type": "code",
   "execution_count": 5,
   "metadata": {},
   "outputs": [],
   "source": [
    "import os\n",
    "import shutil"
   ]
  },
  {
   "cell_type": "code",
   "execution_count": null,
   "metadata": {},
   "outputs": [],
   "source": [
    "regions ={'a','b'}\n"
   ]
  },
  {
   "cell_type": "code",
   "execution_count": 6,
   "metadata": {},
   "outputs": [],
   "source": [
    "# get common data files from both years\n",
    "\n",
    "def get_common_csv_files(folder1, folder2):\n",
    "    files_folder1 = set(file for file in os.listdir(folder1) if file.endswith('.csv'))\n",
    "    files_folder2 = set(file for file in os.listdir(folder2) if file.endswith('.csv'))\n",
    "    \n",
    "    common_files = files_folder1.intersection(files_folder2)\n",
    "    return common_files\n",
    "\n",
    "def copy_files(source_folder, destination_folder, files_to_copy):\n",
    "    for file in files_to_copy:\n",
    "        source_path = os.path.join(source_folder, file)\n",
    "        destination_path = os.path.join(destination_folder, file)\n",
    "        shutil.copy2(source_path, destination_path)\n",
    "\n",
    "# Replace these paths with your actual paths\n",
    "folder1_path = 'E:/xie/Sensor Files/4. impute/full MICE imputated/2018'\n",
    "folder2_path = 'E:/xie/Sensor Files/4. impute/full MICE imputated/2019'\n",
    "destination_folder1_path = 'E:/xie/Sensor Files/5. dataset/full MICE imputed datasets/2018'\n",
    "destination_folder2_path = 'E:/xie/Sensor Files/5. dataset/full MICE imputed datasets/2019'\n",
    "\n",
    "common_files = get_common_csv_files(folder1_path, folder2_path)\n",
    "\n",
    "# Copy common files to destination folders\n",
    "copy_files(folder1_path, destination_folder1_path, common_files)\n",
    "copy_files(folder2_path, destination_folder2_path, common_files)\n",
    "\n",
    "print(\"Common CSV files copied successfully.\")\n"
   ]
  }
 ],
 "metadata": {
  "kernelspec": {
   "display_name": "Python 3",
   "language": "python",
   "name": "python3"
  },
  "language_info": {
   "codemirror_mode": {
    "name": "ipython",
    "version": 3
   },
   "file_extension": ".py",
   "mimetype": "text/x-python",
   "name": "python",
   "nbconvert_exporter": "python",
   "pygments_lexer": "ipython3",
   "version": "3.11.9"
  }
 },
 "nbformat": 4,
 "nbformat_minor": 2
}
