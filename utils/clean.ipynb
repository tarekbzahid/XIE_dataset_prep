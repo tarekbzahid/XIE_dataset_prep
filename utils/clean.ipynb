{
 "cells": [
  {
   "cell_type": "code",
   "execution_count": 6,
   "metadata": {},
   "outputs": [
    {
     "name": "stdout",
     "output_type": "stream",
     "text": [
      "Requirement already satisfied: missingno in c:\\users\\tarek zahid\\appdata\\local\\packages\\pythonsoftwarefoundation.python.3.11_qbz5n2kfra8p0\\localcache\\local-packages\\python311\\site-packages (0.5.2)\n",
      "Requirement already satisfied: numpy in c:\\users\\tarek zahid\\appdata\\local\\packages\\pythonsoftwarefoundation.python.3.11_qbz5n2kfra8p0\\localcache\\local-packages\\python311\\site-packages (from missingno) (1.26.1)\n",
      "Requirement already satisfied: matplotlib in c:\\users\\tarek zahid\\appdata\\local\\packages\\pythonsoftwarefoundation.python.3.11_qbz5n2kfra8p0\\localcache\\local-packages\\python311\\site-packages (from missingno) (3.8.2)\n",
      "Requirement already satisfied: scipy in c:\\users\\tarek zahid\\appdata\\local\\packages\\pythonsoftwarefoundation.python.3.11_qbz5n2kfra8p0\\localcache\\local-packages\\python311\\site-packages (from missingno) (1.11.4)\n",
      "Requirement already satisfied: seaborn in c:\\users\\tarek zahid\\appdata\\local\\packages\\pythonsoftwarefoundation.python.3.11_qbz5n2kfra8p0\\localcache\\local-packages\\python311\\site-packages (from missingno) (0.13.2)\n",
      "Requirement already satisfied: contourpy>=1.0.1 in c:\\users\\tarek zahid\\appdata\\local\\packages\\pythonsoftwarefoundation.python.3.11_qbz5n2kfra8p0\\localcache\\local-packages\\python311\\site-packages (from matplotlib->missingno) (1.2.0)\n",
      "Requirement already satisfied: cycler>=0.10 in c:\\users\\tarek zahid\\appdata\\local\\packages\\pythonsoftwarefoundation.python.3.11_qbz5n2kfra8p0\\localcache\\local-packages\\python311\\site-packages (from matplotlib->missingno) (0.12.1)\n",
      "Requirement already satisfied: fonttools>=4.22.0 in c:\\users\\tarek zahid\\appdata\\local\\packages\\pythonsoftwarefoundation.python.3.11_qbz5n2kfra8p0\\localcache\\local-packages\\python311\\site-packages (from matplotlib->missingno) (4.45.1)\n",
      "Requirement already satisfied: kiwisolver>=1.3.1 in c:\\users\\tarek zahid\\appdata\\local\\packages\\pythonsoftwarefoundation.python.3.11_qbz5n2kfra8p0\\localcache\\local-packages\\python311\\site-packages (from matplotlib->missingno) (1.4.5)\n",
      "Requirement already satisfied: packaging>=20.0 in c:\\users\\tarek zahid\\appdata\\local\\packages\\pythonsoftwarefoundation.python.3.11_qbz5n2kfra8p0\\localcache\\local-packages\\python311\\site-packages (from matplotlib->missingno) (23.2)\n",
      "Requirement already satisfied: pillow>=8 in c:\\users\\tarek zahid\\appdata\\local\\packages\\pythonsoftwarefoundation.python.3.11_qbz5n2kfra8p0\\localcache\\local-packages\\python311\\site-packages (from matplotlib->missingno) (10.1.0)\n",
      "Requirement already satisfied: pyparsing>=2.3.1 in c:\\users\\tarek zahid\\appdata\\local\\packages\\pythonsoftwarefoundation.python.3.11_qbz5n2kfra8p0\\localcache\\local-packages\\python311\\site-packages (from matplotlib->missingno) (3.1.1)\n",
      "Requirement already satisfied: python-dateutil>=2.7 in c:\\users\\tarek zahid\\appdata\\local\\packages\\pythonsoftwarefoundation.python.3.11_qbz5n2kfra8p0\\localcache\\local-packages\\python311\\site-packages (from matplotlib->missingno) (2.8.2)\n",
      "Requirement already satisfied: pandas>=1.2 in c:\\users\\tarek zahid\\appdata\\local\\packages\\pythonsoftwarefoundation.python.3.11_qbz5n2kfra8p0\\localcache\\local-packages\\python311\\site-packages (from seaborn->missingno) (2.1.2)\n",
      "Requirement already satisfied: pytz>=2020.1 in c:\\users\\tarek zahid\\appdata\\local\\packages\\pythonsoftwarefoundation.python.3.11_qbz5n2kfra8p0\\localcache\\local-packages\\python311\\site-packages (from pandas>=1.2->seaborn->missingno) (2023.3.post1)\n",
      "Requirement already satisfied: tzdata>=2022.1 in c:\\users\\tarek zahid\\appdata\\local\\packages\\pythonsoftwarefoundation.python.3.11_qbz5n2kfra8p0\\localcache\\local-packages\\python311\\site-packages (from pandas>=1.2->seaborn->missingno) (2023.3)\n",
      "Requirement already satisfied: six>=1.5 in c:\\users\\tarek zahid\\appdata\\local\\packages\\pythonsoftwarefoundation.python.3.11_qbz5n2kfra8p0\\localcache\\local-packages\\python311\\site-packages (from python-dateutil>=2.7->matplotlib->missingno) (1.16.0)\n"
     ]
    }
   ],
   "source": [
    "!pip install missingno\n",
    "import os\n",
    "import pandas as pd\n",
    "import numpy as np"
   ]
  },
  {
   "cell_type": "markdown",
   "metadata": {},
   "source": [
    "Data Cleaning Functions:\n",
    "    1. Normalize date to nearest 15T min increment\n",
    "    2. Fill empty rows with DataTimeStamps where data is missing\n",
    "    3. Data quality check\n",
    "    3. Visualize missing data \n",
    "    4. Decide on data imputation"
   ]
  },
  {
   "cell_type": "code",
   "execution_count": 59,
   "metadata": {},
   "outputs": [],
   "source": [
    "# Function to normalize time to the nearest 15-minute increment\n",
    "def round_time_to_15min(dt):\n",
    "    dt += timedelta(minutes=7.5)\n",
    "    dt -= timedelta(minutes=dt.minute % 15, seconds=dt.second)\n",
    "    return dt"
   ]
  },
  {
   "cell_type": "code",
   "execution_count": 7,
   "metadata": {},
   "outputs": [],
   "source": [
    "# Function to fill gaps in data with empty rows\n",
    "\n",
    "def fill_gaps(df):\n",
    "    year = df['DateTimeStamp'].dt.year.iloc[0]          # Get the year from the DateTimeStamp column\n",
    "    start_time = pd.Timestamp(year, 1, 1)              # Set the start time to the beginning of the year\n",
    "    end_time = pd.Timestamp(year, 12, 31, 23, 59, 59)     # Set the end time to the end of the year\n",
    "    expected_times = pd.date_range(start=start_time, end=end_time, freq='15T')  # Generate expected times within the year\n",
    "    \n",
    "    # Find missing times within the year\n",
    "    missing_times_within_year = expected_times[~expected_times.isin(df['DateTimeStamp'])]\n",
    "    \n",
    "    # Create missing data DataFrame\n",
    "    missing_data = pd.DataFrame({\n",
    "        'DateTimeStamp': missing_times_within_year,\n",
    "        'Occupancy': np.nan,\n",
    "        'Volume': np.nan,\n",
    "        'Speed': np.nan\n",
    "    })\n",
    "    \n",
    "    filled_df = pd.concat([df, missing_data]).sort_values(by='DateTimeStamp')    # Concatenate missing_data with original DataFrame\n",
    "    \n",
    "    return filled_df"
   ]
  },
  {
   "cell_type": "code",
   "execution_count": null,
   "metadata": {},
   "outputs": [],
   "source": [
    "# Main script to clean the sensor data\n",
    "\n",
    "input_directory = 'C:/Users/Tarek Zahid/Desktop/xie/Sensor Files/2. transformed sensor files/2018'\n",
    "output_directory = 'C:/Users/Tarek Zahid/Desktop/xie/Sensor Files/3. cleaned sensor files/2018'\n",
    "\n",
    "# Read and process each CSV file\n",
    "for filename in os.listdir(input_directory):\n",
    "    if filename.endswith(\".csv\"):\n",
    "        input_filepath = os.path.join(input_directory, filename)\n",
    "        df = pd.read_csv(input_filepath, parse_dates=['DateTimeStamp'])\n",
    "\n",
    "        # Normalize time to the nearest 15-minute increment\n",
    "        df['DateTimeStamp'] = df['DateTimeStamp'].apply(round_time_to_15min)\n",
    "\n",
    "        # Fill gaps in data with empty rows\n",
    "        df = fill_gaps(df)\n",
    "\n",
    "        # Save the processed data to a new CSV file\n",
    "        output_filename = os.path.splitext(filename)[0] + '_processed.csv'\n",
    "        output_filepath = os.path.join(output_directory, output_filename)\n",
    "        df.to_csv(output_filepath, index=False)\n",
    "\n",
    "        print(f\"Processed file: {output_filepath}\")"
   ]
  },
  {
   "cell_type": "code",
   "execution_count": 5,
   "metadata": {},
   "outputs": [],
   "source": [
    "# Data Quality Check\n",
    "# Check if the row count of each CSV file is equal to 35040 - quick check\n",
    "\n",
    "def check_csv_row_count(directory):\n",
    "    file_paths = [os.path.join(directory, filename) for filename in os.listdir(directory) if filename.endswith('.csv')]\n",
    "    \n",
    "    for file_path in file_paths:\n",
    "        df = pd.read_csv(file_path)\n",
    "        row_count = len(df)\n",
    "        \n",
    "        # Check if the row count is not equal to 35040\n",
    "        if row_count != 35040:\n",
    "            print(f\"{file_path}: {row_count} rows\")\n",
    "          \n",
    "\n",
    "# Set directory path\n",
    "check_csv_row_count('C:/Users/Tarek Zahid/Desktop/xie/Sensor Files/3. cleaned sensor files/2018')"
   ]
  },
  {
   "cell_type": "code",
   "execution_count": null,
   "metadata": {},
   "outputs": [],
   "source": [
    "# Data Quality Check\n",
    "# Check for duplicates in column 1 (DateTimeStamp)\n",
    "\n",
    "def check_duplicates_in_column1(directory):\n",
    "    csv_files = [file for file in os.listdir(directory) if file.endswith('.csv')]\n",
    "    \n",
    "    for file_name in csv_files:\n",
    "        file_path = os.path.join(directory, file_name)\n",
    "        df = pd.read_csv(file_path)\n",
    "        \n",
    "        # Calculate row count\n",
    "        row_count = len(df)\n",
    "        \n",
    "        # Check for duplicates in the first column\n",
    "        duplicates = df[df.duplicated(subset=[df.columns[0]], keep=False)]\n",
    "        \n",
    "        if not duplicates.empty:\n",
    "            print(f\"Duplicates found in {file_name} (Total Rows: {row_count}):\")\n",
    "            print(duplicates)\n",
    "        else:\n",
    "            print(f\"No duplicates found in {file_name} (Total Rows: {row_count})\")\n",
    "\n",
    "# Set directory path\n",
    "check_duplicates_in_column1('C:/Users/Tarek Zahid/Desktop/xie/Sensor Files/3. cleaned sensor files/2018')\n"
   ]
  },
  {
   "cell_type": "code",
   "execution_count": null,
   "metadata": {},
   "outputs": [],
   "source": [
    "# Data Quality Check\n",
    "# Aggregate duplicates by taking the mean of the values and rounding to the nearest integer for Occupancy and Volume and to 2 decimal places for Speed\n",
    "\n",
    "def check_and_handle_duplicates(directory):\n",
    "    csv_files = [file for file in os.listdir(directory) if file.endswith('.csv')]\n",
    "    for file_name in csv_files:\n",
    "        file_path = os.path.join(directory, file_name)\n",
    "        df = pd.read_csv(file_path)\n",
    "        duplicate_timestamps = df[df.duplicated(subset=['DateTimeStamp'], keep=False)]\n",
    "        \n",
    "        # Handle duplicates by aggregating values\n",
    "        if not duplicate_timestamps.empty:\n",
    "            # Aggregate duplicates by taking the mean of numeric columns\n",
    "            aggregated_df = duplicate_timestamps.groupby('DateTimeStamp').mean().reset_index()\n",
    "            # Round 'Occupancy' and 'Volume' columns to nearest integer\n",
    "            aggregated_df['Occupancy'] = aggregated_df['Occupancy'].round().astype(int)\n",
    "            aggregated_df['Volume'] = aggregated_df['Volume'].round().astype(int)\n",
    "            df.drop_duplicates(subset=['DateTimeStamp'], keep=False, inplace=True)\n",
    "            df = pd.concat([df, aggregated_df], ignore_index=True)\n",
    "            df.to_csv(file_path, index=False)\n",
    "\n",
    "            print(f\"Duplicates handled in {file_name}\")\n",
    "        else:\n",
    "            print(f\"No duplicates found in {file_name}\")\n",
    "\n",
    "# Set directory path\n",
    "check_and_handle_duplicates('C:/Users/Tarek Zahid/Desktop/xie/Sensor Files/3. cleaned sensor files/2018')"
   ]
  },
  {
   "cell_type": "code",
   "execution_count": null,
   "metadata": {},
   "outputs": [],
   "source": []
  }
 ],
 "metadata": {
  "kernelspec": {
   "display_name": "Python 3",
   "language": "python",
   "name": "python3"
  },
  "language_info": {
   "codemirror_mode": {
    "name": "ipython",
    "version": 3
   },
   "file_extension": ".py",
   "mimetype": "text/x-python",
   "name": "python",
   "nbconvert_exporter": "python",
   "pygments_lexer": "ipython3",
   "version": "3.11.8"
  }
 },
 "nbformat": 4,
 "nbformat_minor": 2
}
