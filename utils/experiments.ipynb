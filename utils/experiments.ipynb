{
 "cells": [
  {
   "cell_type": "code",
   "execution_count": 1,
   "metadata": {},
   "outputs": [],
   "source": [
    "import numpy as np\n",
    "import pandas as pd"
   ]
  },
  {
   "cell_type": "code",
   "execution_count": 38,
   "metadata": {},
   "outputs": [
    {
     "name": "stdout",
     "output_type": "stream",
     "text": [
      "Modified dataset with missing values has been saved\n"
     ]
    }
   ],
   "source": [
    "# introduce missing single placeholder values at random at a dataset\n",
    "\n",
    "def introduce_missing_values(df, missing_percentage, placeholder_value, seed=None):\n",
    "    if seed is not None:\n",
    "        np.random.seed(seed)\n",
    "    for col in df.columns:\n",
    "        num_missing_values = int(len(df) * missing_percentage)\n",
    "        #print(f\"Introducing {num_missing_values} missing values in column {col}\")\n",
    "        if num_missing_values >= len(df):\n",
    "            missing_indices = df.index\n",
    "        else:\n",
    "            missing_indices = np.random.choice(df.index, num_missing_values, replace=num_missing_values >= len(df))\n",
    "        df.loc[missing_indices, col] = placeholder_value\n",
    "    return df\n",
    "\n",
    "existing_dataset = pd.read_csv('../data/26 sensors/speedx26_train.csv',header=None)\n",
    "\n",
    "missing_percentage = .15\n",
    "placeholder_value = 1\n",
    "seed = 123   # Set seed value for reproducibility\n",
    "\n",
    "modified_dataset = introduce_missing_values(existing_dataset, missing_percentage, placeholder_value, seed)\n",
    "\n",
    "modified_dataset.to_csv(f'../data/26 sensors/speedx26_train_with_missing_{placeholder_value}.csv', index=False, header=False)\n",
    "\n",
    "print(\"Modified dataset with missing values has been saved\")\n"
   ]
  }
 ],
 "metadata": {
  "kernelspec": {
   "display_name": "Python 3",
   "language": "python",
   "name": "python3"
  },
  "language_info": {
   "codemirror_mode": {
    "name": "ipython",
    "version": 3
   },
   "file_extension": ".py",
   "mimetype": "text/x-python",
   "name": "python",
   "nbconvert_exporter": "python",
   "pygments_lexer": "ipython3",
   "version": "3.11.8"
  }
 },
 "nbformat": 4,
 "nbformat_minor": 2
}
